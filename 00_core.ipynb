{
 "cells": [
  {
   "cell_type": "code",
   "execution_count": null,
   "metadata": {},
   "outputs": [],
   "source": [
    "# default_exp core"
   ]
  },
  {
   "cell_type": "raw",
   "metadata": {},
   "source": []
  },
  {
   "cell_type": "markdown",
   "metadata": {},
   "source": [
    "# question_answering\n",
    "\n",
    "> def QA(question_text)"
   ]
  },
  {
   "cell_type": "code",
   "execution_count": 2,
   "metadata": {},
   "outputs": [],
   "source": [
    "#hide\n",
    "from nbdev.showdoc import *"
   ]
  },
  {
   "cell_type": "code",
   "execution_count": 3,
   "metadata": {},
   "outputs": [
    {
     "ename": "ModuleNotFoundError",
     "evalue": "No module named 'transformers'",
     "output_type": "error",
     "traceback": [
      "\u001b[0;31m---------------------------------------------------------------------------\u001b[0m",
      "\u001b[0;31mModuleNotFoundError\u001b[0m                       Traceback (most recent call last)",
      "\u001b[0;32m/var/folders/jg/ls34x8g94x3b6v4b7hhc42wr0000gr/T/ipykernel_2018/1954172144.py\u001b[0m in \u001b[0;36m<module>\u001b[0;34m\u001b[0m\n\u001b[1;32m      1\u001b[0m \u001b[0;31m#export\u001b[0m\u001b[0;34m\u001b[0m\u001b[0;34m\u001b[0m\u001b[0m\n\u001b[0;32m----> 2\u001b[0;31m \u001b[0;32mfrom\u001b[0m \u001b[0mtransformers\u001b[0m \u001b[0;32mimport\u001b[0m \u001b[0mpipeline\u001b[0m\u001b[0;34m\u001b[0m\u001b[0;34m\u001b[0m\u001b[0m\n\u001b[0m\u001b[1;32m      3\u001b[0m \u001b[0;34m\u001b[0m\u001b[0m\n\u001b[1;32m      4\u001b[0m qa = pipeline(\n\u001b[1;32m      5\u001b[0m     \u001b[0;34m\"question-answering\"\u001b[0m\u001b[0;34m,\u001b[0m\u001b[0;34m\u001b[0m\u001b[0;34m\u001b[0m\u001b[0m\n",
      "\u001b[0;31mModuleNotFoundError\u001b[0m: No module named 'transformers'"
     ]
    }
   ],
   "source": [
    "#export\n",
    "from transformers import pipeline\n",
    "\n",
    "qa = pipeline(\n",
    "    \"question-answering\",\n",
    "    #model=\"NeuML/bert-small-cord19qa\",\n",
    "    model=\"NeuML/bert-small-cord19-squad2\",\n",
    "    tokenizer=\"NeuML/bert-small-cord19qa\"\n",
    ")\n",
    "\n",
    "import spacy\n",
    "\n",
    "nlp_model = spacy.load('en_core_web_sm')"
   ]
  },
  {
   "cell_type": "code",
   "execution_count": 1,
   "metadata": {},
   "outputs": [
    {
     "ename": "ModuleNotFoundError",
     "evalue": "No module named 'SPARQLWrapper'",
     "output_type": "error",
     "traceback": [
      "\u001b[0;31m---------------------------------------------------------------------------\u001b[0m",
      "\u001b[0;31mModuleNotFoundError\u001b[0m                       Traceback (most recent call last)",
      "\u001b[0;32m/var/folders/jg/ls34x8g94x3b6v4b7hhc42wr0000gr/T/ipykernel_2018/3836192465.py\u001b[0m in \u001b[0;36m<module>\u001b[0;34m\u001b[0m\n\u001b[1;32m      1\u001b[0m \u001b[0;31m#export\u001b[0m\u001b[0;34m\u001b[0m\u001b[0;34m\u001b[0m\u001b[0m\n\u001b[0;32m----> 2\u001b[0;31m \u001b[0;32mfrom\u001b[0m \u001b[0mSPARQLWrapper\u001b[0m \u001b[0;32mimport\u001b[0m \u001b[0mSPARQLWrapper\u001b[0m\u001b[0;34m,\u001b[0m \u001b[0mJSON\u001b[0m\u001b[0;34m\u001b[0m\u001b[0;34m\u001b[0m\u001b[0m\n\u001b[0m\u001b[1;32m      3\u001b[0m \u001b[0;34m\u001b[0m\u001b[0m\n\u001b[1;32m      4\u001b[0m \u001b[0msparql\u001b[0m \u001b[0;34m=\u001b[0m \u001b[0mSPARQLWrapper\u001b[0m\u001b[0;34m(\u001b[0m\u001b[0;34m\"http://dbpedia.org/sparql\"\u001b[0m\u001b[0;34m)\u001b[0m\u001b[0;34m\u001b[0m\u001b[0;34m\u001b[0m\u001b[0m\n\u001b[1;32m      5\u001b[0m \u001b[0;34m\u001b[0m\u001b[0m\n",
      "\u001b[0;31mModuleNotFoundError\u001b[0m: No module named 'SPARQLWrapper'"
     ]
    }
   ],
   "source": [
    "#export\n",
    "from SPARQLWrapper import SPARQLWrapper, JSON\n",
    "\n",
    "sparql = SPARQLWrapper(\"http://dbpedia.org/sparql\")\n",
    "\n",
    "def query(query):\n",
    "  sparql.setQuery(query)\n",
    "  sparql.setReturnFormat(JSON)\n",
    "  return sparql.query().convert()['results']['bindings']\n",
    "\n",
    "def entities_in_text(s):\n",
    "    doc = nlp_model(s)\n",
    "    ret = {}\n",
    "    for [ename, etype] in [[entity.text, entity.label_] for entity in doc.ents]:\n",
    "        if etype in ret:\n",
    "            ret[etype] = ret[etype] + [ename]\n",
    "        else:\n",
    "            ret[etype] = [ename]\n",
    "    return ret\n",
    "\n",
    "def dbpedia_get_entities_by_name(name, dbpedia_type):\n",
    "  sparql = \"select distinct ?s ?comment where {{ ?s <http://www.w3.org/2000/01/rdf-schema#label>  \\\"{}\\\"@en . ?s <http://www.w3.org/2000/01/rdf-schema#comment>  ?comment  . FILTER  (lang(?comment) = 'en') . ?s <http://www.w3.org/1999/02/22-rdf-syntax-ns#type> {} . }} limit 15\".format(name, dbpedia_type)\n",
    "  #print(sparql)\n",
    "  results = query(sparql)\n",
    "  return(results)\n",
    "\n",
    "entity_type_to_type_uri = {'PERSON': '<http://dbpedia.org/ontology/Person>',\n",
    "    'GPE': '<http://dbpedia.org/ontology/Place>', 'ORG':\n",
    "    '<http://dbpedia.org/ontology/Organisation>'}\n",
    "\n",
    "def QA(query_text):\n",
    "  entities = entities_in_text(query_text)\n",
    "\n",
    "  def helper(entity_type):\n",
    "    ret = \"\"\n",
    "    if entity_type in entities:\n",
    "      for hname in entities[entity_type]:\n",
    "        results = dbpedia_get_entities_by_name(hname, entity_type_to_type_uri[entity_type])\n",
    "        for result in results:\n",
    "          ret += ret + result['comment']['value'] + \" . \"\n",
    "    return ret\n",
    "\n",
    "  context_text = helper('PERSON') + helper('ORG') + helper('GPE')\n",
    "  print(\"\\ncontext text:\\n\", context_text, \"\\n\")\n",
    "\n",
    "  print(\"Answer from transformer model:\")\n",
    "  print(\"Original query: \", query_text)\n",
    "  print(\"Answer:\")\n",
    "\n",
    "  answer = qa({\n",
    "                \"question\": query_text,\n",
    "                \"context\": context_text\n",
    "               })\n",
    "  return answer"
   ]
  },
  {
   "cell_type": "code",
   "execution_count": null,
   "metadata": {},
   "outputs": [],
   "source": []
  }
 ],
 "metadata": {
  "kernelspec": {
   "display_name": "Python 3 (ipykernel)",
   "language": "python",
   "name": "python3"
  },
  "language_info": {
   "codemirror_mode": {
    "name": "ipython",
    "version": 3
   },
   "file_extension": ".py",
   "mimetype": "text/x-python",
   "name": "python",
   "nbconvert_exporter": "python",
   "pygments_lexer": "ipython3",
   "version": "3.10.1"
  }
 },
 "nbformat": 4,
 "nbformat_minor": 2
}
